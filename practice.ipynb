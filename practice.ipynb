{
 "cells": [
  {
   "cell_type": "code",
   "execution_count": 3,
   "metadata": {},
   "outputs": [
    {
     "name": "stdout",
     "output_type": "stream",
     "text": [
      "\n",
      "h\n",
      "eh\n",
      "leh\n",
      "lleh\n"
     ]
    },
    {
     "data": {
      "text/plain": [
       "'olleh'"
      ]
     },
     "execution_count": 3,
     "metadata": {},
     "output_type": "execute_result"
    }
   ],
   "source": [
    "def reverse_string(mystring):\n",
    "    # mystring[::-1]\n",
    "    answer = ''\n",
    "\n",
    "    for letter in mystring:\n",
    "        print(answer)\n",
    "        answer = f'{letter}{answer}'\n",
    "    \n",
    "    return(answer)\n",
    "\n",
    "reverse_string('hello')\n",
    "\n",
    "# Tests below, do not change\n",
    "# assert reverse_string(\"hello\") == \"olleh\", \"Cannot reverse 'hello'\"\n",
    "# assert reverse_string(\"\") == \"\", \"When given an empty string it returns an empty string, but doesn't\"\n",
    "# assert reverse_string(\"racecar\") == \"racecar\", \"Cannot reverse 'racecar'\"\n",
    "# assert reverse_string(\"12345\") == \"54321\", \"Cannot reverse 12345\"\n",
    "\n",
    "# # If the program gets here, the code works!\n",
    "# print(\"Your solution works!\")\n"
   ]
  },
  {
   "cell_type": "code",
   "execution_count": 2,
   "metadata": {},
   "outputs": [
    {
     "name": "stdout",
     "output_type": "stream",
     "text": [
      "h\n",
      "eh\n",
      "leh\n",
      "lleh\n",
      "olleh\n",
      "olleh\n"
     ]
    }
   ],
   "source": [
    "mystring = 'hello'\n",
    "answer = ''\n",
    "\n",
    "for letter in mystring:\n",
    "    answer = f'{letter}{answer}'\n",
    "    print(answer)\n",
    "\n",
    "print(answer)"
   ]
  },
  {
   "cell_type": "code",
   "execution_count": 25,
   "metadata": {},
   "outputs": [
    {
     "name": "stdout",
     "output_type": "stream",
     "text": [
      "Your solution works!\n"
     ]
    }
   ],
   "source": [
    "def reverse_string(input):\n",
    "    answer = \"\"\n",
    "    # Your code goes here\n",
    "    for letter in input:\n",
    "      answer = f\"{letter}{answer}\"\n",
    "\n",
    "\n",
    "    #  End of your code\n",
    "    return answer\n",
    "\n",
    "# Tests below, do not change\n",
    "assert reverse_string(\"hello\") == \"olleh\", \"Cannot reverse 'hello'\"\n",
    "assert reverse_string(\"\") == \"\", \"When given an empty string it returns an empty string, but doesn't\"\n",
    "assert reverse_string(\"racecar\") == \"racecar\", \"Cannot reverse 'racecar'\"\n",
    "assert reverse_string(\"12345\") == \"54321\", \"Cannot reverse 12345\"\n",
    "\n",
    "# If the program gets here, the code works!\n",
    "print(\"Your solution works!\")"
   ]
  }
 ],
 "metadata": {
  "kernelspec": {
   "display_name": "Python 3",
   "language": "python",
   "name": "python3"
  },
  "language_info": {
   "codemirror_mode": {
    "name": "ipython",
    "version": 3
   },
   "file_extension": ".py",
   "mimetype": "text/x-python",
   "name": "python",
   "nbconvert_exporter": "python",
   "pygments_lexer": "ipython3",
   "version": "3.11.6"
  }
 },
 "nbformat": 4,
 "nbformat_minor": 2
}
