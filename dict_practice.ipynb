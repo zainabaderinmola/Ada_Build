{
 "cells": [
  {
   "cell_type": "code",
   "execution_count": 8,
   "metadata": {},
   "outputs": [
    {
     "name": "stdout",
     "output_type": "stream",
     "text": [
      "5\n",
      "Oatmeal raisin cookies are dairy free.\n",
      "nuts, soy\n",
      "True\n"
     ]
    }
   ],
   "source": [
    "# problem 6\n",
    "oatmeal_raisin = {\n",
    "    \"gluten_free\": False,\n",
    "    \"dairy_free\": True,\n",
    "    \"non_gmo\": True,\n",
    "    \"vegan\": True,\n",
    "    \"allergens\": \"nuts\"\n",
    "}\n",
    "\n",
    "print(len(oatmeal_raisin)) # 5\n",
    "\n",
    "if oatmeal_raisin[\"dairy_free\"]:\n",
    "    print(\"Oatmeal raisin cookies are dairy free.\") # 'Oatmeat raisin cookies are dairy free'\n",
    "\n",
    "oatmeal_raisin[\"allergens\"] += \", soy\"\n",
    "print(oatmeal_raisin[\"allergens\"]) #nuts, soy\n",
    "\n",
    "# if(not(oatmeal_raisin[\"gluten_free\"]) or not(oatmeal_raisin[\"vegan\"])):\n",
    "#     print(\"The oatmeal raisin cookie is either not gluten free or not vegan.\")\n",
    "\n",
    "print(not oatmeal_raisin['gluten_free'])"
   ]
  }
 ],
 "metadata": {
  "kernelspec": {
   "display_name": "Python 3",
   "language": "python",
   "name": "python3"
  },
  "language_info": {
   "codemirror_mode": {
    "name": "ipython",
    "version": 3
   },
   "file_extension": ".py",
   "mimetype": "text/x-python",
   "name": "python",
   "nbconvert_exporter": "python",
   "pygments_lexer": "ipython3",
   "version": "3.11.6"
  }
 },
 "nbformat": 4,
 "nbformat_minor": 2
}
