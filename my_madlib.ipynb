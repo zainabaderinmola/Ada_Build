{
 "cells": [
  {
   "cell_type": "code",
   "execution_count": null,
   "metadata": {},
   "outputs": [],
   "source": []
  },
  {
   "cell_type": "code",
   "execution_count": 17,
   "metadata": {},
   "outputs": [
    {
     "name": "stdout",
     "output_type": "stream",
     "text": [
      "Welcome to my MadLib Program. Please enter some information below:\n",
      "\n",
      "\n",
      "HERE'S YOUR MADLIB......\n",
      "\n",
      "\n",
      "When Zain went to the market to d a g\n",
      "d food-ingredient for their shop in a. I was f d \n",
      "to see my f. I counted g and jumped for joy. \n",
      "f can be f s\n"
     ]
    }
   ],
   "source": [
    "import time\n",
    "\n",
    "print(\"Welcome to my MadLib Program. Please enter some information below:\\n\\n\")\n",
    "time.sleep(2)\n",
    "my_dict = {}\n",
    "\n",
    "my_dict['name'] = input(\"name: \") \n",
    "time.sleep(1)\n",
    "my_dict['verb'] = input(\"verb: \")\n",
    "my_dict['adjective'] = input(\"adjective\")\n",
    "my_dict['verb'] = input(\"verb: \")\n",
    "my_dict['place'] = input(\"place: \")\n",
    "my_dict['adverb'] = input(\"adverb: \")\n",
    "my_dict['verb'] = input(\"verb: \")\n",
    "my_dict['noun'] = input(\"noun - an animal: \")\n",
    "my_dict['number'] = input(\"number: \")\n",
    "my_dict['subject'] = input(\"noun - favourite subject: \")\n",
    "my_dict['adverb'] = input(\"adverb: \")\n",
    "my_dict['interjection'] = input(\"interjection: \")\n",
    "\n",
    "time.sleep(2)\n",
    "print(\"HERE'S YOUR MADLIB......\\n\\n\")\n",
    "print(f\"When {my_dict['name']} went to the market to {my_dict['verb']} a {my_dict['adjective']}\\n\\\n",
    "{my_dict['verb']} food-ingredient for their shop in {my_dict['place']}. I was {my_dict['adverb']} {my_dict['verb']} \\n\\\n",
    "to see my {my_dict['noun']}. I counted {my_dict['number']} and jumped for joy. \\n\\\n",
    "{my_dict['subject']} can be {my_dict['adverb']} {my_dict['interjection']}\")"
   ]
  },
  {
   "cell_type": "markdown",
   "metadata": {},
   "source": [
    "When (name) went to the market to (verb) a (adjective) (verb)\n",
    "food-ingredient for their shop in (place). I was (adverb) (verb)\n",
    "to see my (noun, animal). I counted (number) and jumped for joy.\n",
    "(Fave subject) can be (adverb) (interjection)"
   ]
  },
  {
   "cell_type": "code",
   "execution_count": 6,
   "metadata": {},
   "outputs": [
    {
     "name": "stdout",
     "output_type": "stream",
     "text": [
      "\n",
      "This\n",
      "is\n",
      "a\n",
      "test \n",
      "\n",
      "\n",
      "So it works like a multi-line\n",
      "comment, but it will print out.\n",
      "\n",
      "You can make kewl designs like this:\n",
      "\n",
      "==============\n",
      "|            |\n",
      "|            |\n",
      "|    BOX     |\n",
      "|            |\n",
      "|            |\n",
      "==============\n",
      "\n"
     ]
    }
   ],
   "source": [
    "print(\n",
    "'''\n",
    "This\n",
    "is\n",
    "a\n",
    "test \n",
    "'''\n",
    "    )\n",
    "\n",
    "print(\n",
    "'''\n",
    "So it works like a multi-line\n",
    "comment, but it will print out.\n",
    "\n",
    "You can make kewl designs like this:\n",
    "\n",
    "==============\n",
    "|            |\n",
    "|            |\n",
    "|    BOX     |\n",
    "|            |\n",
    "|            |\n",
    "==============\n",
    "'''\n",
    "    )"
   ]
  },
  {
   "cell_type": "code",
   "execution_count": 27,
   "metadata": {},
   "outputs": [
    {
     "name": "stdout",
     "output_type": "stream",
     "text": [
      "Welcome to my MadLib Program. Please enter some information below:\n",
      "\n",
      "\n",
      "The great adventure\n",
      "Once upon a time, in a london land, there lived a goat. One day, this\n",
      "pretty creature decided to go on a(n) pretty adventure.\n",
      "\tOn the way, it met a red wizard who offered a magical bat that could grant  8 \n",
      "wishes. Excitedly,the creature made its first wish for a giant eba.\n",
      "\n",
      "\tHowever, things took a hilarious turn when the pretty food item \n",
      "turned out to have a mischievous personality and started eating \n",
      "around the land.\n",
      "\tNow, the creature had to figure out how to stop the mischievous food item \n",
      "and make the land peaceful again. Little did it know, \n",
      "the adventure was just beginning!\n"
     ]
    }
   ],
   "source": [
    "# MadLib program\n",
    "import time\n",
    "\n",
    "print(\"Welcome to my MadLib Program. Please enter some information below:\\n\\n\")\n",
    "time.sleep(2)\n",
    "\n",
    "# 1) Save all the parts of speech in a list\n",
    "parts_of_speech = [\n",
    "    'place', 'animal', 'adjective', 'adjective',\n",
    "    'colour', 'thing', 'number', 'food_item',\n",
    "    'adjective', 'verb_ending_in_ing'\n",
    "]\n",
    "\n",
    "# 2) Storage dictionary for user input\n",
    "user_input = {}\n",
    "\n",
    "# 3) Loop through to receive user input, add to dictionary\n",
    "for part in parts_of_speech:\n",
    "    user_word = input(f'Please enter {part}: ')\n",
    "    user_input[part] = user_word\n",
    "\n",
    "\n",
    "# 4) Return user input\n",
    "user_input\n",
    "\n",
    "# 5) Print out madlib\n",
    "print(\"The great adventure\")\n",
    "print(f\"Once upon a time, in a {user_input['place']} land, there lived a {user_input['animal']}. One day, this\\n\\\n",
    "{user_input['adjective']} creature decided to go on a(n) {user_input['adjective']} adventure.\\n\\tOn the way, it met a \\\n",
    "{user_input['colour']} wizard who offered a magical {user_input['thing']} that could grant  {user_input['number']} \\nwishes. Excitedly,\\\n",
    "the creature made its first wish for a giant {user_input['food_item']}.\\n\\n\\\n",
    "\\tHowever, things took a hilarious turn when the {user_input['adjective']} food item \\nturned out \\\n",
    "to have a mischievous personality and started {user_input['verb_ending_in_ing']} \\naround the land.\\\n",
    "\\n\\tNow, the creature had to figure out how to stop the mischievous \\\n",
    "food item \\nand make the land peaceful again. Little did it know, \\nthe adventure was just beginning!\")"
   ]
  },
  {
   "cell_type": "code",
   "execution_count": 26,
   "metadata": {},
   "outputs": [
    {
     "name": "stdout",
     "output_type": "stream",
     "text": [
      "My name is zain. I am 32 old and I'm dark.\n"
     ]
    }
   ],
   "source": [
    "my_list = ['name', 'age', 'complexion']\n",
    "my_dict = {}\n",
    "for i in my_list:\n",
    "    Hint = input(f'Please enter {i}:')\n",
    "    my_dict[i] = Hint\n",
    "\n",
    "print(f\"My name is {my_dict['name']}. I am {my_dict['age']} old and I'm {my_dict['complexion']}.\")"
   ]
  }
 ],
 "metadata": {
  "kernelspec": {
   "display_name": "Python 3",
   "language": "python",
   "name": "python3"
  },
  "language_info": {
   "codemirror_mode": {
    "name": "ipython",
    "version": 3
   },
   "file_extension": ".py",
   "mimetype": "text/x-python",
   "name": "python",
   "nbconvert_exporter": "python",
   "pygments_lexer": "ipython3",
   "version": "3.11.6"
  }
 },
 "nbformat": 4,
 "nbformat_minor": 2
}
