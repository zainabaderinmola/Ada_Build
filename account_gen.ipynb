{
 "cells": [
  {
   "cell_type": "code",
   "execution_count": 7,
   "metadata": {},
   "outputs": [],
   "source": [
    "import random\n",
    "\n",
    "# first_name = input(\"Please enter your first name: \")\n",
    "# last_name = input(\"Please input your last name: \")\n",
    "# # full_name = (first_name + ' ' + last_name)\n",
    "\n",
    "\n",
    "# def std_shortened_name(first_name, last_name):\n",
    "#     short_name = []\n",
    "#     if ' ' in first_name:\n",
    "#         first_name = first_name.split()\n",
    "#         short_name = (first_name[0][0] + first_name[1][0] + last_name)\n",
    "#     else:\n",
    "#         short_name = (first_name[0] + last_name)\n",
    "    \n",
    "#     return (short_name)\n",
    "\n",
    "def std_id():\n",
    "    numbers = range(111111, 999999)\n",
    "    for num in numbers:\n",
    "        num = random.randint(numbers)\n",
    "    return num\n",
    "\n",
    "def std_email_format():\n",
    "    # name = []\n",
    "    # name = std_shortened_name().append(name)\n",
    "    id = std_id().append(id)\n",
    "    \n",
    "    # for index in range(len(name)):\n",
    "    #     if (name[index]) != (id[index]):\n",
    "    #         print(f\"{name[index]}{id[index]}\")\n",
    "\n",
    "    print(id)"
   ]
  },
  {
   "cell_type": "code",
   "execution_count": 21,
   "metadata": {},
   "outputs": [
    {
     "name": "stdout",
     "output_type": "stream",
     "text": [
      "('ROSIE MARTINEZ', 284977)\n",
      "('JOE LIU', 768826)\n",
      "('SALLY SUE', 653445)\n",
      "('BOB JOHNSON', 756944)\n",
      "('DELIA AGHO', 741014)\n"
     ]
    }
   ],
   "source": [
    "import random\n",
    "\n",
    "\n",
    "std_roll = random.sample(range(111111,999999), 5)\n",
    "names = [\"ROSIE MARTINEZ\", \"JOE LIU\", \"SALLY SUE\", \"BOB JOHNSON\", \"DELIA AGHO\"]\n",
    "\n",
    "# for index in range(len(std_roll)):\n",
    "#     if std_roll[index] != name[index]:\n",
    "#         print(f\"{id[index]}\")\n",
    "\n",
    "for idx, name in enumerate(names):\n",
    "    id = (name, std_roll[idx])\n",
    "    print(id) "
   ]
  },
  {
   "cell_type": "code",
   "execution_count": 2,
   "metadata": {},
   "outputs": [
    {
     "data": {
      "text/plain": [
       "['apple mary', 'grace mango']"
      ]
     },
     "execution_count": 2,
     "metadata": {},
     "output_type": "execute_result"
    }
   ],
   "source": [
    "names = ['apple mary', 'grace mango']\n",
    "another = names\n",
    "\n",
    "another\n"
   ]
  },
  {
   "cell_type": "code",
   "execution_count": 12,
   "metadata": {},
   "outputs": [
    {
     "data": {
      "text/plain": [
       "'catomade'"
      ]
     },
     "execution_count": 12,
     "metadata": {},
     "output_type": "execute_result"
    }
   ],
   "source": [
    "\n",
    "\n",
    "def short(string1, string2): \n",
    "    if ' ' in string1:\n",
    "            string1 = string1.split()\n",
    "            new_string = string1[0][0] + string1[1][0] + string2\n",
    "    else:    \n",
    "        new_string = string1[0] + string2\n",
    "    \n",
    "    return new_string\n",
    "\n",
    "string1 = 'code also'\n",
    "string2 = 'tomade'\n",
    "\n",
    "short(string1, string2)\n"
   ]
  },
  {
   "cell_type": "code",
   "execution_count": 4,
   "metadata": {},
   "outputs": [
    {
     "name": "stdout",
     "output_type": "stream",
     "text": [
      "None\n"
     ]
    }
   ],
   "source": [
    "import random\n",
    "\n",
    "# first_name = input(\"Please enter your first name: \")\n",
    "# last_name = input(\"Please input your last name: \")\n",
    "# full_name = []\n",
    "# full_name.append(first_name + ' ' + last_name)\n",
    "\n",
    "# def std_shortened_name(first_name, last_name):\n",
    "#     short_name = []\n",
    "#     short_name = short_name.append[first_name[0] + last_name]\n",
    "\n",
    "\n",
    "def std_id():\n",
    "    i = 5\n",
    "    num = []\n",
    "\n",
    "    while i:\n",
    "        number = random.randint(111111, 999999)\n",
    "        num.append(number)\n",
    "        i -= 1\n"
   ]
  },
  {
   "cell_type": "code",
   "execution_count": 9,
   "metadata": {},
   "outputs": [
    {
     "ename": "NameError",
     "evalue": "name 'full_name' is not defined",
     "output_type": "error",
     "traceback": [
      "\u001b[0;31m---------------------------------------------------------------------------\u001b[0m",
      "\u001b[0;31mNameError\u001b[0m                                 Traceback (most recent call last)",
      "Cell \u001b[0;32mIn[9], line 32\u001b[0m\n\u001b[1;32m     12\u001b[0m         full_name \u001b[38;5;241m=\u001b[39m full_name\u001b[38;5;241m.\u001b[39mappend(first_name \u001b[38;5;241m+\u001b[39m \u001b[38;5;124m'\u001b[39m\u001b[38;5;124m \u001b[39m\u001b[38;5;124m'\u001b[39m \u001b[38;5;241m+\u001b[39m last_name)\n\u001b[1;32m     16\u001b[0m \u001b[38;5;66;03m# std_id = []\u001b[39;00m\n\u001b[1;32m     17\u001b[0m \u001b[38;5;66;03m# for nums in range(5):\u001b[39;00m\n\u001b[1;32m     18\u001b[0m \u001b[38;5;66;03m#     std_id.append((random.randint(111111, 999999)))\u001b[39;00m\n\u001b[0;32m   (...)\u001b[0m\n\u001b[1;32m     29\u001b[0m \u001b[38;5;66;03m#             print(name[-1: -4])\u001b[39;00m\n\u001b[1;32m     30\u001b[0m \u001b[38;5;66;03m#         name_initial = name_initial.append()\u001b[39;00m\n\u001b[0;32m---> 32\u001b[0m \u001b[38;5;28mprint\u001b[39m(\u001b[43mfull_name\u001b[49m)\n",
      "\u001b[0;31mNameError\u001b[0m: name 'full_name' is not defined"
     ]
    }
   ],
   "source": [
    "import random   # To randomly generate numbers\n",
    "\n",
    "def enter_name():\n",
    "    r = random.randint(0,1)\n",
    "    if r == 1:\n",
    "        return True\n",
    "    else:\n",
    "        return False\n",
    "    \n",
    "enter = True\n",
    "def get_stdName():\n",
    "\n",
    "    first_name = input(\"Please enter your first name: \")\n",
    "    last_name = input(\"Please input your last name: \")\n",
    "\n",
    "    full_name = []\n",
    "    full_name = full_name.append(first_name + ' ' + last_name)\n",
    "    \n",
    "\n",
    "def get_std_short_Name():\n",
    "    if ' ' in first_name:\n",
    "        first_name = first_name.split()\n",
    "        short_name = first_name[0][0] + first_name[1][0] + last_name\n",
    "    else:    \n",
    "        short_name = first_name[0] + last_name\n",
    "\n",
    "def std_id():\n",
    "    for nums in range(5):\n",
    "        std_id.append((random.randint(111111, 999999)))\n",
    "\n",
    "\n",
    "\n",
    "\n",
    "# for i in names:\n",
    "\n",
    "#     for name in names:\n",
    "#         if name[i] % 2 == 0:\n",
    "#             print(name[0])\n",
    "#         else:\n",
    "#             print(name[-1: -4])\n",
    "#         name_initial = name_initial.append()\n",
    "\n"
   ]
  },
  {
   "cell_type": "code",
   "execution_count": null,
   "metadata": {},
   "outputs": [],
   "source": [
    "\n"
   ]
  },
  {
   "cell_type": "code",
   "execution_count": null,
   "metadata": {},
   "outputs": [],
   "source": []
  },
  {
   "cell_type": "code",
   "execution_count": null,
   "metadata": {},
   "outputs": [],
   "source": []
  },
  {
   "cell_type": "code",
   "execution_count": 10,
   "metadata": {},
   "outputs": [
    {
     "data": {
      "text/plain": [
       "[505839,\n",
       " 756133,\n",
       " 135891,\n",
       " 682184,\n",
       " 226988,\n",
       " 187509,\n",
       " 402169,\n",
       " 305834,\n",
       " 462430,\n",
       " 697404]"
      ]
     },
     "execution_count": 10,
     "metadata": {},
     "output_type": "execute_result"
    }
   ],
   "source": [
    "random.sample(range(111111, 999999), 10)"
   ]
  },
  {
   "cell_type": "code",
   "execution_count": null,
   "metadata": {},
   "outputs": [],
   "source": []
  },
  {
   "cell_type": "code",
   "execution_count": null,
   "metadata": {},
   "outputs": [],
   "source": []
  }
 ],
 "metadata": {
  "kernelspec": {
   "display_name": "Python 3",
   "language": "python",
   "name": "python3"
  },
  "language_info": {
   "codemirror_mode": {
    "name": "ipython",
    "version": 3
   },
   "file_extension": ".py",
   "mimetype": "text/x-python",
   "name": "python",
   "nbconvert_exporter": "python",
   "pygments_lexer": "ipython3",
   "version": "3.11.6"
  }
 },
 "nbformat": 4,
 "nbformat_minor": 2
}
