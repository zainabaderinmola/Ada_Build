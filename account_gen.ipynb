{
 "cells": [
  {
   "cell_type": "code",
   "execution_count": 9,
   "metadata": {},
   "outputs": [],
   "source": [
    "def stdName():\n",
    "    first_name = input(\"Please enter your first name: \")\n",
    "    last_name = input(\"Please input your last name: \")\n",
    "    full_name = []\n",
    "    full_name.append(first_name + ' ' + last_name)\n",
    "\n",
    "def std_id():\n",
    "    numbers = range(111111, 999999)\n",
    "    for nums in numbers:\n"
   ]
  },
  {
   "cell_type": "code",
   "execution_count": 4,
   "metadata": {},
   "outputs": [
    {
     "data": {
      "text/plain": [
       "['k', 'a', 'r', 'e', 'e', 'm', ' ', 'l', 'a', 'k', 'a']"
      ]
     },
     "execution_count": 4,
     "metadata": {},
     "output_type": "execute_result"
    }
   ],
   "source": [
    "import random   # To randomly generate numbers\n",
    "\n",
    "\n",
    "def stdName():\n",
    "    first_name = input(\"Please enter your first name: \")\n",
    "    last_name = input(\"Please input your last name: \")\n",
    "\n",
    "    full_name = full_name.append(first_name + ' ' + last_name)\n",
    "\n",
    "\n",
    "# std_id = []\n",
    "# for nums in range(5):\n",
    "#     std_id.append((random.randint(111111, 999999)))\n",
    "\n",
    "\n",
    "\n",
    "\n",
    "# for i in names:\n",
    "\n",
    "#     for name in names:\n",
    "#         if name[i] % 2 == 0:\n",
    "#             print(name[0])\n",
    "#         else:\n",
    "#             print(name[-1: -4])\n",
    "#         name_initial = name_initial.append()\n",
    "\n",
    "stdName\n"
   ]
  },
  {
   "cell_type": "code",
   "execution_count": null,
   "metadata": {},
   "outputs": [],
   "source": [
    "\n"
   ]
  },
  {
   "cell_type": "code",
   "execution_count": null,
   "metadata": {},
   "outputs": [],
   "source": []
  },
  {
   "cell_type": "code",
   "execution_count": null,
   "metadata": {},
   "outputs": [],
   "source": []
  },
  {
   "cell_type": "code",
   "execution_count": null,
   "metadata": {},
   "outputs": [],
   "source": [
    "random.sample(range(111111, 999999), 10)"
   ]
  },
  {
   "cell_type": "code",
   "execution_count": null,
   "metadata": {},
   "outputs": [],
   "source": []
  },
  {
   "cell_type": "code",
   "execution_count": null,
   "metadata": {},
   "outputs": [],
   "source": []
  }
 ],
 "metadata": {
  "kernelspec": {
   "display_name": "Python 3",
   "language": "python",
   "name": "python3"
  },
  "language_info": {
   "codemirror_mode": {
    "name": "ipython",
    "version": 3
   },
   "file_extension": ".py",
   "mimetype": "text/x-python",
   "name": "python",
   "nbconvert_exporter": "python",
   "pygments_lexer": "ipython3",
   "version": "3.11.6"
  }
 },
 "nbformat": 4,
 "nbformat_minor": 2
}
